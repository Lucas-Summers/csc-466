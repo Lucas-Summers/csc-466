{
 "cells": [
  {
   "cell_type": "markdown",
   "id": "81d20c96",
   "metadata": {},
   "source": [
    "# Board Game Clustering Analysis\n",
    "\n",
    "This project analyzes a comprehensive dataset of board games to understand what factors contribute to high ratings. The analysis uses principal component analysis, random forest regression, and various clustering techniques to identify patterns and insights.\n",
    "\n",
    "## Notebook Structure\n",
    "\n",
    "1. [Data Preparation](./1_data_preparation.ipynb): Loading and preprocessing the board game dataset.\n",
    "2. [PCA Analysis](./2_pca_analysis.ipynb): Reducing dimensionality of binary board game features.\n",
    "3. [Regression Analysis](./3_regression_analysis.ipynb): Identifying key features that predict board game ratings.\n",
    "4. [Clustering Analysis](./4_clustering_analysis.ipynb): Finding patterns across the entire dataset.\n",
    "5. [Category Clustering](./5_category_clustering.ipynb): Analyzing clusters within each game category.\n",
    "6. [Temporal Clustering](./6_temporal_clustering.ipynb): Examining how clusters evolved over time.\n",
    "7. [Rating Clustering](./7_rating_clustering.ipynb): Finding clusters within each rating bracket.\n",
    "8. [High Rating Analysis](./8_high_rating_analysis.ipynb): Deep dive into what makes highly-rated games successful.\n",
    "\n",
    "## How to Run\n",
    "\n",
    "Execute the notebooks in order to reproduce the analysis. Each notebook loads data saved by previous notebooks."
   ]
  }
 ],
 "metadata": {
  "kernelspec": {
   "display_name": "Python 3 (ipykernel)",
   "language": "python",
   "name": "python3"
  },
  "language_info": {
   "codemirror_mode": {
    "name": "ipython",
    "version": 3
   },
   "file_extension": ".py",
   "mimetype": "text/x-python",
   "name": "python",
   "nbconvert_exporter": "python",
   "pygments_lexer": "ipython3",
   "version": "3.13.2"
  }
 },
 "nbformat": 4,
 "nbformat_minor": 5
}
