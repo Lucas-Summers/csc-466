{
 "cells": [
  {
   "cell_type": "markdown",
   "id": "81d20c96",
   "metadata": {},
   "source": [
    "# CSC 466 Final Analytical Project (Winter 2025)\n",
    "- Lucas Summers (lsumme01@calpoly.edu)\n",
    "- Xiuyuan Qiu (xiqiu@calpoly.edu)\n",
    "- Braeden Alonge (balonge@calpoly.edu)\n",
    "- Nathan Lim (nlim10@calpoly.edu)\n",
    "\n",
    "# Board Game Geek Dataset Analysis\n",
    "\n",
    "This project analyzes a comprehensive dataset of board games to understand what factors contribute to high ratings. The analysis uses principal component analysis, random forest/linear regression, collaborative filtering, and various clustering techniques to identify patterns and insights.\n",
    "\n",
    "## Notebook Structure\n",
    "\n",
    "1. [Data Preparation](./1_data_preparation.ipynb): Loading and preprocessing the board game dataset.\n",
    "2. [PCA Analysis](./2_pca_analysis.ipynb): Reducing dimensionality of binary board game features.\n",
    "3. [High Ratings Clustering](./3_high_ratings.ipynb): Analyzing clusters within highly-rated board games (rating >= 7.0).\n",
    "4. [Low Ratings Clustering](./4_low_ratings.ipynb): Analyzing clusters within low-rated board games (rating < 6.0).\n",
    "5. [High vs. Low Clustering Comparison](./5_high_low_comparison.ipynb): Analyzing the differences between high-rated and low-rated board games.\n",
    "6. [Collaborative Filtering](./6_collaborative_filtering.ipynb): Exploration of a collaborative filtering model based on the user_ratings data to recommend games to users and suggest similar games.\n",
    "7. [Predicting Average Rating](./7_predict_average_rating.ipynb): Train a Linear Regression and Random Forest models to predict average rating for a game.\n",
    "\n",
    "## How to Run\n",
    "\n",
    "Execute the notebooks in order to reproduce the analysis. **Some notebooks load data saved by previous notebooks.**\n",
    "\n",
    "- Dataset can be found [here](https://www.kaggle.com/datasets/threnjen/board-games-database-from-boardgamegeek/) and all CSV files must be in the `data/` directory at the root of the project directory\n",
    "- Intermediate dataframes and data shared between notebooks are stored in the `frames/` directory\n",
    "- All plots generated in notebooks are stored in the `plots/` directory"
   ]
  },
  {
   "cell_type": "code",
   "execution_count": null,
   "id": "7f95efd9-2fb5-4bbc-bb86-8867179730ba",
   "metadata": {},
   "outputs": [],
   "source": []
  }
 ],
 "metadata": {
  "kernelspec": {
   "display_name": "Python 3 (ipykernel)",
   "language": "python",
   "name": "python3"
  },
  "language_info": {
   "codemirror_mode": {
    "name": "ipython",
    "version": 3
   },
   "file_extension": ".py",
   "mimetype": "text/x-python",
   "name": "python",
   "nbconvert_exporter": "python",
   "pygments_lexer": "ipython3",
   "version": "3.13.2"
  }
 },
 "nbformat": 4,
 "nbformat_minor": 5
}
