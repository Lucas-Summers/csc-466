{
 "cells": [
  {
   "cell_type": "markdown",
   "id": "af9e3efb-4872-4d69-a074-8b2353e553b1",
   "metadata": {},
   "source": [
    "# 1. Data Loading and Preprocessing\n",
    "Loading, cleaning, and preprocessing the board game dataset."
   ]
  },
  {
   "cell_type": "code",
   "execution_count": null,
   "id": "4b8ea32b",
   "metadata": {},
   "outputs": [],
   "source": [
    "import pandas as pd\n",
    "import numpy as np\n",
    "import matplotlib.pyplot as plt\n",
    "import seaborn as sns\n",
    "\n",
    "# Set display options and styling\n",
    "pd.set_option('display.max_columns', None)\n",
    "pd.set_option('display.width', 1000)\n",
    "sns.set(style=\"whitegrid\")\n",
    "plt.rcParams['figure.figsize'] = (12, 8)\n",
    "plt.style.use('seaborn-v0_8-whitegrid')\n",
    "\n",
    "# Create output directory for plots if it doesn't exist\n",
    "import os\n",
    "if not os.path.exists('../plots'):\n",
    "    os.makedirs('../plots')\n",
    "if not os.path.exists('../frames'):\n",
    "    os.makedirs('../frames')"
   ]
  },
  {
   "cell_type": "markdown",
   "id": "f13ba026-f708-4efa-8f1c-b9e721b5eb62",
   "metadata": {},
   "source": [
    "# Loading in the Data"
   ]
  },
  {
   "cell_type": "code",
   "execution_count": null,
   "id": "356d7374-9a59-49a2-b306-5c8e3d10e0ec",
   "metadata": {},
   "outputs": [],
   "source": [
    "# Load the dataset files\n",
    "base_path = '../data/'  # Update with your folder path\n",
    "\n",
    "# Load main games data\n",
    "print(\"Loading datasets...\")\n",
    "games_df = pd.read_csv(f'{base_path}games.csv')\n",
    "mechanics_df = pd.read_csv(f'{base_path}mechanics.csv')\n",
    "themes_df = pd.read_csv(f'{base_path}themes.csv')\n",
    "subcategories_df = pd.read_csv(f'{base_path}subcategories.csv')\n",
    "\n",
    "print(f\"Games dataset: {games_df.shape}\")\n",
    "print(f\"Mechanics dataset: {mechanics_df.shape}\")\n",
    "print(f\"Themes dataset: {themes_df.shape}\")\n",
    "print(f\"Subcategories dataset: {subcategories_df.shape}\")\n",
    "\n",
    "# Merge all dataframes\n",
    "print(\"\\nMerging dataframes...\")\n",
    "merged_df = games_df.copy()\n",
    "\n",
    "# Merge with mechanics\n",
    "merged_df = pd.merge(merged_df, mechanics_df, on='BGGId', how='left')\n",
    "\n",
    "# Merge with themes\n",
    "merged_df = pd.merge(merged_df, themes_df, on='BGGId', how='left')\n",
    "\n",
    "# Merge with subcategories\n",
    "merged_df = pd.merge(merged_df, subcategories_df, on='BGGId', how='left')\n",
    "\n",
    "print(f\"Merged dataframe shape: {merged_df.shape}\")\n",
    "\n",
    "# Get binary columns\n",
    "mechanics_cols = mechanics_df.columns.drop('BGGId').tolist()\n",
    "themes_cols = themes_df.columns.drop('BGGId').tolist()\n",
    "subcategories_cols = subcategories_df.columns.drop('BGGId').tolist()\n",
    "category_cols = [col for col in games_df.columns if col.startswith('Cat:')]\n",
    "\n",
    "all_binary_cols = mechanics_cols + themes_cols + subcategories_cols + category_cols\n",
    "print(f\"Total number of binary features: {len(all_binary_cols)}\")\n",
    "\n",
    "# Fill NA values with 0 for binary columns\n",
    "merged_df[all_binary_cols] = merged_df[all_binary_cols].fillna(0)\n",
    "\n",
    "# Filter to games with sufficient ratings for reliability\n",
    "min_ratings = 100\n",
    "filtered_df = merged_df[merged_df['NumUserRatings'] >= min_ratings].copy()\n",
    "print(f\"\\nFiltered dataset (games with at least {min_ratings} ratings): {filtered_df.shape[0]} games\")"
   ]
  },
  {
   "cell_type": "markdown",
   "id": "c37ce951-1e59-4a61-af40-2dec7f5aa2f2",
   "metadata": {},
   "source": [
    "# Basic Data Exploration"
   ]
  },
  {
   "cell_type": "code",
   "execution_count": null,
   "id": "7ad2743e-6b92-4929-a12c-2577c64f8390",
   "metadata": {},
   "outputs": [],
   "source": [
    "# Basic data exploration\n",
    "print(\"\\nBasic statistics for AvgRating:\")\n",
    "print(filtered_df['AvgRating'].describe())\n",
    "\n",
    "# Create rating brackets\n",
    "filtered_df['Rating_Bracket'] = pd.cut(filtered_df['AvgRating'], \n",
    "                                       bins=[0, 5, 6, 7, 8, 10],\n",
    "                                       labels=['<5', '5-6', '6-7', '7-8', '8+'])\n",
    "\n",
    "print(\"\\nDistribution by rating bracket:\")\n",
    "print(filtered_df['Rating_Bracket'].value_counts().sort_index())"
   ]
  },
  {
   "cell_type": "code",
   "execution_count": null,
   "id": "aa4f1095-1c0f-45fc-a0fd-73be61e174c5",
   "metadata": {},
   "outputs": [],
   "source": [
    "# Plot distribution of ratings\n",
    "plt.figure(figsize=(10, 6))\n",
    "sns.histplot(filtered_df['AvgRating'], kde=True)\n",
    "plt.title('Distribution of Average Ratings')\n",
    "plt.xlabel('Average Rating')\n",
    "plt.ylabel('Frequency')\n",
    "plt.savefig('../plots/rating_distribution.png')\n",
    "plt.show()\n",
    "plt.close()\n",
    "\n",
    "# Analyze user ratings (popularity) vs average rating\n",
    "plt.figure(figsize=(10, 8))\n",
    "plt.scatter(filtered_df['AvgRating'], filtered_df['NumUserRatings'], \n",
    "           alpha=0.3, s=10, c='blue')\n",
    "plt.title('Board Game Popularity vs Rating')\n",
    "plt.xlabel('Average Rating')\n",
    "plt.ylabel('Number of User Ratings')\n",
    "plt.yscale('log')  # Use log scale for number of ratings\n",
    "plt.grid(True, alpha=0.3)\n",
    "plt.savefig('../plots/overall_popularity_vs_rating.png')\n",
    "plt.show()\n",
    "plt.close()"
   ]
  },
  {
   "cell_type": "code",
   "execution_count": null,
   "id": "a753c2cd",
   "metadata": {},
   "outputs": [],
   "source": [
    "# Save processed data for other notebooks\n",
    "filtered_df.to_csv('../frames/filtered_games.csv', index=False)\n",
    "np.save('../frames/all_binary_cols.npy', all_binary_cols)\n",
    "np.save('../frames/mechanics_cols.npy', mechanics_cols)\n",
    "np.save('../frames/themes_cols.npy', themes_cols)\n",
    "np.save('../frames/subcategories_cols.npy', subcategories_cols)\n",
    "np.save('../frames/category_cols.npy', category_cols)"
   ]
  },
  {
   "cell_type": "code",
   "execution_count": null,
   "id": "1c0794be-5555-45f6-a67e-d0012ef7bc65",
   "metadata": {},
   "outputs": [],
   "source": []
  }
 ],
 "metadata": {
  "kernelspec": {
   "display_name": "Python 3 (ipykernel)",
   "language": "python",
   "name": "python3"
  },
  "language_info": {
   "codemirror_mode": {
    "name": "ipython",
    "version": 3
   },
   "file_extension": ".py",
   "mimetype": "text/x-python",
   "name": "python",
   "nbconvert_exporter": "python",
   "pygments_lexer": "ipython3",
   "version": "3.13.2"
  }
 },
 "nbformat": 4,
 "nbformat_minor": 5
}
