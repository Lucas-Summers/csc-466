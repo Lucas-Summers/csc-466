{
 "cells": [
  {
   "cell_type": "markdown",
   "id": "rating-header",
   "metadata": {},
   "source": [
    "# 4. Low Ratings Clustering Analysis\n",
    "Analyzing clusters within low-rated board games (rating < 6.0)."
   ]
  },
  {
   "cell_type": "code",
   "execution_count": null,
   "id": "import-section",
   "metadata": {},
   "outputs": [],
   "source": [
    "import pandas as pd\n",
    "import numpy as np\n",
    "import matplotlib.pyplot as plt\n",
    "import seaborn as sns\n",
    "from sklearn.decomposition import PCA\n",
    "from sklearn.tree import DecisionTreeClassifier, plot_tree\n",
    "\n",
    "# Import clustering utilities\n",
    "from cluster_utils import agglomerative_grid_search\n",
    "\n",
    "# Set display options and styling\n",
    "pd.set_option('display.max_columns', None)\n",
    "pd.set_option('display.width', 1000)\n",
    "sns.set(style=\"whitegrid\")\n",
    "plt.rcParams['figure.figsize'] = (12, 8)\n",
    "plt.style.use('seaborn-v0_8-whitegrid')\n",
    "\n",
    "# Create output directory for plots if it doesn't exist\n",
    "import os\n",
    "if not os.path.exists('../plots'):\n",
    "    os.makedirs('../plots')\n",
    "if not os.path.exists('../frames'):\n",
    "    os.makedirs('../frames')"
   ]
  },
  {
   "cell_type": "code",
   "execution_count": null,
   "id": "data-loading",
   "metadata": {},
   "outputs": [],
   "source": [
    "# Load processed data\n",
    "filtered_df = pd.read_csv('../frames/filtered_games.csv')\n",
    "all_binary_cols = np.load('../frames/all_binary_cols.npy', allow_pickle=True)\n",
    "mechanics_cols = np.load('../frames/mechanics_cols.npy', allow_pickle=True)\n",
    "themes_cols = np.load('../frames/themes_cols.npy', allow_pickle=True)\n",
    "category_cols = np.load('../frames/category_cols.npy', allow_pickle=True)\n",
    "subcategories_cols = np.load('../frames/subcategories_cols.npy', allow_pickle=True)\n",
    "\n",
    "print(f\"Loaded {len(filtered_df)} games with {len(all_binary_cols)} binary features\")"
   ]
  },
  {
   "cell_type": "markdown",
   "id": "low-ratings-header",
   "metadata": {},
   "source": [
    "# Filter for Low-Rated Games"
   ]
  },
  {
   "cell_type": "code",
   "execution_count": null,
   "id": "low-ratings-filter",
   "metadata": {},
   "outputs": [],
   "source": [
    "# Define low rating threshold\n",
    "LOW_RATING_THRESHOLD = 6.0\n",
    "\n",
    "# Filter for low-rated games\n",
    "low_rated_games = filtered_df[filtered_df['AvgRating'] < LOW_RATING_THRESHOLD].copy()\n",
    "\n",
    "print(f\"Total games: {len(filtered_df)}\")\n",
    "print(f\"Low-rated games (< {LOW_RATING_THRESHOLD}): {len(low_rated_games)}\")\n",
    "print(f\"Percentage of original dataset: {len(low_rated_games) / len(filtered_df) * 100:.1f}%\")\n",
    "print(f\"Mean: {low_rated_games['AvgRating'].mean():.3f}\")\n",
    "\n",
    "# Visualize rating distribution of low-rated games\n",
    "plt.figure(figsize=(10, 6))\n",
    "sns.histplot(low_rated_games['AvgRating'], bins=20, kde=True)\n",
    "plt.title(f'Rating Distribution of Low-Rated Games (< {LOW_RATING_THRESHOLD})')\n",
    "plt.xlabel('Average Rating')\n",
    "plt.ylabel('Count')\n",
    "plt.grid(axis='y', alpha=0.3)\n",
    "plt.savefig('../plots/low_rating_distribution.png')\n",
    "plt.show()"
   ]
  },
  {
   "cell_type": "markdown",
   "id": "clustering-header",
   "metadata": {},
   "source": [
    "# Cluster Low-Rated Games"
   ]
  },
  {
   "cell_type": "code",
   "execution_count": null,
   "id": "clustering-execution",
   "metadata": {},
   "outputs": [],
   "source": [
    "# Perform clustering on low-rated games\n",
    "try:\n",
    "    print(\"\\nClustering low-rated games...\")\n",
    "    best_params, pca_result, labels, scores, pca, n_components = agglomerative_grid_search(\n",
    "        low_rated_games, all_binary_cols, variance_threshold=0.8, max_components=50\n",
    "    )\n",
    "    \n",
    "    # Add cluster labels to low_rated_games\n",
    "    low_rated_games['LowRatingCluster'] = labels\n",
    "    \n",
    "    print(f\"\\nClustering completed with {len(set(labels))} clusters\")\n",
    "    print(f\"Best parameters: n_clusters={best_params[0]}, linkage={best_params[1]}, metric={best_params[2]}\")\n",
    "    print(f\"Silhouette score: {scores['silhouette']:.4f}\")\n",
    "    print(f\"Calinski-Harabasz score: {scores['ch_score']:.1f}\")\n",
    "    print(f\"Davies-Bouldin score: {scores['db_score']:.4f}\")\n",
    "    \n",
    "except Exception as e:\n",
    "    print(f\"Error in clustering: {e}\")"
   ]
  },
  {
   "cell_type": "markdown",
   "id": "visualizations-header",
   "metadata": {},
   "source": [
    "# Visualize Clustering Results"
   ]
  },
  {
   "cell_type": "code",
   "execution_count": null,
   "id": "clustering-visualization",
   "metadata": {},
   "outputs": [],
   "source": [
    "# Only create visualization if we have at least one cluster\n",
    "n_clusters = len(set(labels))\n",
    "if n_clusters > 0:\n",
    "    plt.figure(figsize=(12, 10))\n",
    "    scatter = plt.scatter(\n",
    "        pca_result[:, 0], pca_result[:, 1], \n",
    "        c=labels, cmap='viridis', \n",
    "        alpha=0.6, s=30\n",
    "    )\n",
    "    plt.colorbar(scatter, label='Cluster')\n",
    "    plt.title(f'Low-Rated Board Game Clusters in PCA Space')\n",
    "    plt.xlabel('PC1')\n",
    "    plt.ylabel('PC2')\n",
    "    plt.grid(True)\n",
    "    plt.savefig(f'../plots/clusters_2d_low_rated.png')\n",
    "    plt.show()\n",
    "    plt.close()"
   ]
  },
  {
   "cell_type": "markdown",
   "id": "clusters-analysis-header",
   "metadata": {},
   "source": [
    "# Analyze Cluster Profiles"
   ]
  },
  {
   "cell_type": "code",
   "execution_count": null,
   "id": "clusters-analysis",
   "metadata": {},
   "outputs": [],
   "source": [
    "# Get cluster statistics\n",
    "cluster_stats = low_rated_games.groupby('LowRatingCluster').agg({\n",
    "    'BGGId': 'count',\n",
    "    'AvgRating': ['mean', 'median', 'min', 'max', 'std']\n",
    "}).reset_index()\n",
    "\n",
    "# Flatten multi-level columns\n",
    "cluster_stats.columns = ['LowRatingCluster', 'Count', 'AvgRating_Mean', 'AvgRating_Median', \n",
    "                        'AvgRating_Min', 'AvgRating_Max', 'AvgRating_Std']\n",
    "\n",
    "# Sort by highest average rating\n",
    "cluster_stats = cluster_stats.sort_values('AvgRating_Mean', ascending=False)\n",
    "\n",
    "print(\"\\nCluster statistics (sorted by average rating):\")\n",
    "print(cluster_stats)\n",
    "\n",
    "# Function to get top features by prevalence\n",
    "def get_top_features(df, feature_cols, n=5):\n",
    "    feature_prevalence = {}\n",
    "    for col in feature_cols:\n",
    "        if col in df.columns:\n",
    "            feature_name = col.split(':', 1)[1] if ':' in col else col\n",
    "            feature_prevalence[feature_name] = df[col].mean() * 100\n",
    "    \n",
    "    # Sort by prevalence and get top n\n",
    "    sorted_features = sorted(feature_prevalence.items(), key=lambda x: x[1], reverse=True)\n",
    "    return sorted_features[:n]\n",
    "\n",
    "# Print cluster profiles\n",
    "print(\"\\nCluster Profiles:\")\n",
    "for cluster_id in low_rated_games['LowRatingCluster'].unique():\n",
    "    cluster_df = low_rated_games[low_rated_games['LowRatingCluster'] == cluster_id]\n",
    "    \n",
    "    # Get statistics\n",
    "    stats = cluster_stats[cluster_stats['LowRatingCluster'] == cluster_id].iloc[0]\n",
    "    \n",
    "    print(f\"\\n==== Cluster {cluster_id} ====\")\n",
    "    print(f\"Games: {len(cluster_df)} ({len(cluster_df) / len(low_rated_games) * 100:.1f}% of low-rated games)\")\n",
    "    print(f\"Average Rating: {stats['AvgRating_Mean']:.2f} (min: {stats['AvgRating_Min']:.2f}, max: {stats['AvgRating_Max']:.2f})\")\n",
    "    \n",
    "    # Top mechanics\n",
    "    print(\"\\nTop Mechanics:\")\n",
    "    for mechanic, prevalence in get_top_features(cluster_df, mechanics_cols):\n",
    "        print(f\"  {mechanic}: {prevalence:.1f}%\")\n",
    "    \n",
    "    # Top themes\n",
    "    print(\"\\nTop Themes:\")\n",
    "    for theme, prevalence in get_top_features(cluster_df, themes_cols):\n",
    "        print(f\"  {theme}: {prevalence:.1f}%\")\n",
    "    \n",
    "    # Top categories\n",
    "    print(\"\\nTop Categories:\")\n",
    "    for category, prevalence in get_top_features(cluster_df, category_cols, n=3):\n",
    "        print(f\"  {category}: {prevalence:.1f}%\")\n",
    "\n",
    "    # Top subcategories\n",
    "    print(\"\\nTop Subcategories:\")\n",
    "    for subcategory, prevalence in get_top_features(cluster_df, subcategories_cols, n=3):\n",
    "        print(f\"  {subcategory}: {prevalence:.1f}%\")\n",
    "    \n",
    "    # Example games\n",
    "    print(\"\\nExample Games:\")\n",
    "    for _, game in cluster_df.sort_values('AvgRating', ascending=False).head(5).iterrows():\n",
    "        print(f\"  {game['Name']} ({game['YearPublished']}): {game['AvgRating']:.2f}\")"
   ]
  },
  {
   "cell_type": "markdown",
   "id": "decision-tree-header",
   "metadata": {},
   "source": [
    "# Decision Tree Analysis of Low-Rated Clusters"
   ]
  },
  {
   "cell_type": "code",
   "execution_count": null,
   "id": "decision-tree-analysis",
   "metadata": {},
   "outputs": [],
   "source": [
    "# For each cluster, build a decision tree to distinguish it from other clusters\n",
    "for cluster_id in sorted(low_rated_games['LowRatingCluster'].unique()):\n",
    "    # Create binary target: 1 for this cluster, 0 for other clusters\n",
    "    y = (low_rated_games['LowRatingCluster'] == cluster_id).astype(int)\n",
    "    X = low_rated_games[all_binary_cols]\n",
    "    \n",
    "    # Train a decision tree\n",
    "    dt = DecisionTreeClassifier(max_depth=3, min_samples_leaf=10, random_state=42)\n",
    "    dt.fit(X, y)\n",
    "    \n",
    "    # Get feature importances\n",
    "    importances = pd.DataFrame({\n",
    "        'Feature': all_binary_cols,\n",
    "        'Importance': dt.feature_importances_\n",
    "    }).sort_values('Importance', ascending=False)\n",
    "    \n",
    "    # Print top features\n",
    "    print(f\"\\nTop features for identifying Cluster {cluster_id}:\")\n",
    "    for _, row in importances[importances['Importance'] > 0].head(10).iterrows():\n",
    "        print(f\"  {row['Feature']}: {row['Importance']:.4f}\")\n",
    "    \n",
    "    # Visualize the decision tree\n",
    "    plt.figure(figsize=(20, 10))\n",
    "    plot_tree(\n",
    "        dt, \n",
    "        feature_names=all_binary_cols, \n",
    "        class_names=[f'Other Clusters', f'Cluster {cluster_id}'],\n",
    "        filled=True, \n",
    "        rounded=True,\n",
    "        fontsize=10\n",
    "    )\n",
    "    plt.title(f'Decision Tree for Low-Rated Cluster {cluster_id}')\n",
    "    plt.tight_layout()\n",
    "    plt.savefig(f'../plots/low_rated_cluster_{cluster_id}_decision_tree.png')\n",
    "    plt.show()"
   ]
  },
  {
   "cell_type": "markdown",
   "id": "save-results-header",
   "metadata": {},
   "source": [
    "# Save Results"
   ]
  },
  {
   "cell_type": "code",
   "execution_count": null,
   "id": "save-results",
   "metadata": {},
   "outputs": [],
   "source": [
    "# Save low-rated games with cluster assignments\n",
    "low_rated_games.to_csv('../frames/low_rated_games_with_clusters.csv', index=False)\n",
    "\n",
    "# Create a cluster assignments DataFrame for integration with the main dataset\n",
    "low_rating_clusters = pd.DataFrame({\n",
    "    'BGGId': low_rated_games['BGGId'],\n",
    "    'LowRatingCluster': low_rated_games['LowRatingCluster']\n",
    "})\n",
    "\n",
    "# Save cluster assignments\n",
    "low_rating_clusters.to_csv('../frames/low_rating_clustering_assignments.csv', index=False)\n",
    "\n",
    "# Save cluster statistics\n",
    "cluster_stats.to_csv('../frames/low_rating_cluster_statistics.csv', index=False)\n",
    "\n",
    "print(f\"Saved clustering results for {len(low_rated_games)} low-rated games\")"
   ]
  },
  {
   "cell_type": "code",
   "execution_count": null,
   "id": "464c8f6e-48f4-4d06-aba3-8ab5c46dd840",
   "metadata": {},
   "outputs": [],
   "source": []
  }
 ],
 "metadata": {
  "kernelspec": {
   "display_name": "Python 3 (ipykernel)",
   "language": "python",
   "name": "python3"
  },
  "language_info": {
   "codemirror_mode": {
    "name": "ipython",
    "version": 3
   },
   "file_extension": ".py",
   "mimetype": "text/x-python",
   "name": "python",
   "nbconvert_exporter": "python",
   "pygments_lexer": "ipython3",
   "version": "3.13.2"
  }
 },
 "nbformat": 4,
 "nbformat_minor": 5
}
