{
 "cells": [
  {
   "cell_type": "markdown",
   "id": "dae9c925",
   "metadata": {},
   "source": [
    "# 3. Random Forest Regression Analysis\n",
    "Identifying key features that predict board game ratings."
   ]
  },
  {
   "cell_type": "code",
   "execution_count": null,
   "id": "1ce89e48",
   "metadata": {},
   "outputs": [],
   "source": [
    "import pandas as pd\n",
    "import numpy as np\n",
    "import matplotlib.pyplot as plt\n",
    "import seaborn as sns\n",
    "from sklearn.decomposition import PCA\n",
    "from sklearn.preprocessing import StandardScaler\n",
    "from sklearn.cluster import DBSCAN, KMeans\n",
    "from sklearn.neighbors import NearestNeighbors\n",
    "from sklearn.ensemble import RandomForestRegressor\n",
    "from sklearn.model_selection import train_test_split\n",
    "from sklearn.metrics import mean_squared_error, r2_score, silhouette_score\n",
    "from sklearn.tree import DecisionTreeClassifier, plot_tree\n",
    "\n",
    "# Set display options and styling\n",
    "pd.set_option('display.max_columns', None)\n",
    "pd.set_option('display.width', 1000)\n",
    "sns.set(style=\"whitegrid\")\n",
    "plt.rcParams['figure.figsize'] = (12, 8)\n",
    "plt.style.use('seaborn-v0_8-whitegrid')\n",
    "\n",
    "# Create output directory for plots if it doesn't exist\n",
    "import os\n",
    "if not os.path.exists('../plots'):\n",
    "    os.makedirs('../plots')\n",
    "if not os.path.exists('../frames'):\n",
    "    os.makedirs('../frames')"
   ]
  },
  {
   "cell_type": "code",
   "execution_count": null,
   "id": "6730c43d",
   "metadata": {},
   "outputs": [],
   "source": [
    "# Load processed data\n",
    "filtered_df = pd.read_csv('../frames/filtered_games.csv')\n",
    "all_binary_cols = np.load('../frames/all_binary_cols.npy', allow_pickle=True)\n",
    "\n",
    "print(f\"Loaded {len(filtered_df)} games with {len(all_binary_cols)} binary features\")"
   ]
  },
  {
   "cell_type": "markdown",
   "id": "6f482091-d88b-4d0a-ada6-738a1cd8295a",
   "metadata": {},
   "source": [
    "# Train RandomForestRegressor Model"
   ]
  },
  {
   "cell_type": "code",
   "execution_count": null,
   "id": "cd9ea0fc-464e-48c9-a132-19e438805c3f",
   "metadata": {},
   "outputs": [],
   "source": [
    "# Split data\n",
    "X = filtered_df[all_binary_cols]\n",
    "y = filtered_df['AvgRating']\n",
    "X_train, X_test, y_train, y_test = train_test_split(X, y, test_size=0.2, random_state=42)\n",
    "\n",
    "# Train a random forest to predict ratings\n",
    "print(\"Training Random Forest Regressor...\")\n",
    "rf = RandomForestRegressor(n_estimators=100, random_state=42)\n",
    "rf.fit(X_train, y_train)\n",
    "\n",
    "# Evaluate\n",
    "y_pred = rf.predict(X_test)\n",
    "mse = mean_squared_error(y_test, y_pred)\n",
    "r2 = r2_score(y_test, y_pred)\n",
    "print(f\"MSE: {mse:.4f}\")\n",
    "print(f\"R² score: {r2:.4f}\")"
   ]
  },
  {
   "cell_type": "markdown",
   "id": "970e83fc-39a5-45be-960e-71715b24fc10",
   "metadata": {},
   "source": [
    "# Analyze Feature Importance"
   ]
  },
  {
   "cell_type": "code",
   "execution_count": null,
   "id": "249e9173-72c5-4274-857a-ee431b5e4c20",
   "metadata": {},
   "outputs": [],
   "source": [
    "# Feature importance\n",
    "feature_importance = pd.DataFrame({\n",
    "    'Feature': all_binary_cols,\n",
    "    'Importance': rf.feature_importances_\n",
    "}).sort_values('Importance', ascending=False)\n",
    "\n",
    "print(\"\\nTop 20 features that predict high ratings:\")\n",
    "print(feature_importance.head(20))\n",
    "\n",
    "# Visualize feature importance\n",
    "plt.figure(figsize=(12, 10))\n",
    "top_features = feature_importance.head(20)\n",
    "sns.barplot(x='Importance', y='Feature', data=top_features)\n",
    "plt.title('Top 20 Features That Predict Higher Board Game Ratings')\n",
    "plt.tight_layout()\n",
    "plt.show()\n",
    "plt.savefig('../plots/feature_importance.png')\n",
    "plt.close()"
   ]
  },
  {
   "cell_type": "code",
   "execution_count": null,
   "id": "23759d22-5893-4c9a-b621-298475d5616f",
   "metadata": {},
   "outputs": [],
   "source": [
    "# Analyze top features across rating brackets\n",
    "print(\"\\nAnalyzing top features across rating brackets:\")\n",
    "top_regression_features = feature_importance.head(10)['Feature'].tolist()\n",
    "\n",
    "for feature in top_regression_features:\n",
    "    print(f\"\\nFeature: {feature}\")\n",
    "    feature_by_rating = filtered_df.groupby('Rating_Bracket')[feature].mean()\n",
    "    print(feature_by_rating)\n",
    "    \n",
    "    # Count of games with this feature in each bracket\n",
    "    games_with_feature = filtered_df[filtered_df[feature] == 1].groupby('Rating_Bracket').size()\n",
    "    total_in_bracket = filtered_df.groupby('Rating_Bracket').size()\n",
    "    percentage = (games_with_feature / total_in_bracket * 100).fillna(0)\n",
    "    print(f\"Percentage of games with this feature:\")\n",
    "    print(percentage)\n",
    "    \n",
    "    # Plot feature presence by rating bracket\n",
    "    plt.figure(figsize=(10, 6))\n",
    "    percentage.plot(kind='bar')\n",
    "    plt.title(f'Presence of {feature} by Rating Bracket')\n",
    "    plt.ylabel('Percentage of Games')\n",
    "    plt.xlabel('Rating Bracket')\n",
    "    plt.ylim(0, 100)\n",
    "    plt.grid(True, axis='y')\n",
    "    plt.show()\n",
    "    plt.savefig(f'../plots/feature_{feature.replace(\"/\", \"_\").replace(\" \", \"_\")}_by_rating.png')\n",
    "    plt.close()"
   ]
  },
  {
   "cell_type": "code",
   "execution_count": null,
   "id": "f626ec12",
   "metadata": {},
   "outputs": [],
   "source": [
    "# Save feature importance for other notebooks\n",
    "feature_importance.to_csv('../frames/feature_importance.csv', index=False)"
   ]
  },
  {
   "cell_type": "code",
   "execution_count": null,
   "id": "80052ad6-f338-4500-8bca-386ef176332c",
   "metadata": {},
   "outputs": [],
   "source": []
  }
 ],
 "metadata": {
  "kernelspec": {
   "display_name": "Python 3 (ipykernel)",
   "language": "python",
   "name": "python3"
  },
  "language_info": {
   "codemirror_mode": {
    "name": "ipython",
    "version": 3
   },
   "file_extension": ".py",
   "mimetype": "text/x-python",
   "name": "python",
   "nbconvert_exporter": "python",
   "pygments_lexer": "ipython3",
   "version": "3.13.2"
  }
 },
 "nbformat": 4,
 "nbformat_minor": 5
}
