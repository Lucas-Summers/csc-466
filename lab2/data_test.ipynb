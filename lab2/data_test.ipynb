{
 "cells": [
  {
   "cell_type": "code",
   "execution_count": null,
   "metadata": {},
   "outputs": [],
   "source": [
    "# do once\n",
    "# !pip install ucimlrepo"
   ]
  },
  {
   "cell_type": "code",
   "execution_count": 2,
   "metadata": {},
   "outputs": [
    {
     "name": "stdout",
     "output_type": "stream",
     "text": [
      "Tree loaded from sample.json : {'dataset': 'nursery.csv', 'node': {'var': 'finance', 'edges': [{'edge': {'value': 'convenient', 'node': {'var': 'parents', 'edges': [{'edge': {'value': 'usual', 'leaf': {'decision': 'not_recom', 'p': 0.74}}}, {'edge': {'value': 'pretentious', 'leaf': {'decision': 'priority', 'p': 0.78}}}, {'edge': {'value': 'great_pret', 'leaf': {'decision': 'spec_prior', 'p': 0.9}}}]}}}, {'edge': {'value': 'inconv', 'leaf': {'decision': 'very_recom', 'p': 0.8}}}]}}\n"
     ]
    }
   ],
   "source": [
    "from c45 import c45\n",
    "tree = c45()\n",
    "tree.read_tree('sample.json')"
   ]
  },
  {
   "cell_type": "code",
   "execution_count": 2,
   "metadata": {},
   "outputs": [
    {
     "name": "stdout",
     "output_type": "stream",
     "text": [
      "{'uci_id': 13, 'name': 'Balloons', 'repository_url': 'https://archive.ics.uci.edu/dataset/13/balloons', 'data_url': 'https://archive.ics.uci.edu/static/public/13/data.csv', 'abstract': 'Data previously used in cognitive psychology experiment; 4 data sets represent different conditions of an experiment', 'area': 'Social Science', 'tasks': ['Classification'], 'characteristics': ['Multivariate'], 'num_instances': 16, 'num_features': 4, 'feature_types': ['Categorical'], 'demographics': ['Age'], 'target_col': ['inflated'], 'index_col': None, 'has_missing_values': 'no', 'missing_values_symbol': None, 'year_of_dataset_creation': 1991, 'last_updated': 'Mon Mar 04 2024', 'dataset_doi': '10.24432/C5BP4D', 'creators': ['Michael Pazzani'], 'intro_paper': None, 'additional_info': {'summary': 'There are four data sets representing different conditions of an experiment. All have the same attributes.\\r\\n\\r\\na. adult-stretch.data  Inflated is true if age=adult or act=stretch\\r\\n\\r\\nb. adult+stretch.data  Inflated is true if age=adult and act=stretch\\r\\n\\r\\nc. small-yellow.data   Inflated is true if (color=yellow and size = small) or\\r\\n\\r\\nd. small-yellow+adult-stretch.data  Inflated is true if (color=yellow and size = small) or (age=adult and act=stretch)', 'purpose': None, 'funded_by': None, 'instances_represent': None, 'recommended_data_splits': None, 'sensitive_data': None, 'preprocessing_description': None, 'variable_info': '(Classes Inflated T or F)\\r\\n\\r\\nColor:             yellow, purple\\r\\nsize:              large, small\\r\\nact:               stretch, dip\\r\\nage:               adult, child\\r\\ninflated:          T, F', 'citation': None}}\n",
      "       name     role         type demographic description units missing_values\n",
      "0     color  Feature  Categorical        None        None  None             no\n",
      "1      size  Feature  Categorical        None        None  None             no\n",
      "2       act  Feature  Categorical        None        None  None             no\n",
      "3       age  Feature  Categorical         Age        None  None             no\n",
      "4  inflated   Target  Categorical        None        None  None             no\n"
     ]
    }
   ],
   "source": [
    "from ucimlrepo import fetch_ucirepo \n",
    "# fetch dataset \n",
    "balloons = fetch_ucirepo(id=13) \n",
    "# data (as pandas dataframes) \n",
    "X = balloons.data.features \n",
    "y = balloons.data.targets \n",
    "# metadata \n",
    "print(balloons.metadata) \n",
    "# variable information \n",
    "print(balloons.variables) "
   ]
  },
  {
   "cell_type": "code",
   "execution_count": 3,
   "metadata": {},
   "outputs": [
    {
     "name": "stdout",
     "output_type": "stream",
     "text": [
      "{'uci_id': 76, 'name': 'Nursery', 'repository_url': 'https://archive.ics.uci.edu/dataset/76/nursery', 'data_url': 'https://archive.ics.uci.edu/static/public/76/data.csv', 'abstract': ' Nursery Database was derived from a hierarchical decision model originally developed to rank applications for nursery schools.', 'area': 'Social Science', 'tasks': ['Classification'], 'characteristics': ['Multivariate'], 'num_instances': 12960, 'num_features': 8, 'feature_types': ['Categorical'], 'demographics': [], 'target_col': ['class'], 'index_col': None, 'has_missing_values': 'no', 'missing_values_symbol': None, 'year_of_dataset_creation': 1989, 'last_updated': 'Sun Jan 14 2024', 'dataset_doi': '10.24432/C5P88W', 'creators': ['Vladislav Rajkovic'], 'intro_paper': {'ID': 372, 'type': 'NATIVE', 'title': 'An application for admission in public school systems', 'authors': 'M. Olave, V. Rajkovic, M. Bohanec', 'venue': 'Expert Systems in Public Administration', 'year': 1989, 'journal': None, 'DOI': None, 'URL': 'https://www.academia.edu/16670755/An_application_for_admission_in_public_school_systems', 'sha': None, 'corpus': None, 'arxiv': None, 'mag': None, 'acl': None, 'pmid': None, 'pmcid': None}, 'additional_info': {'summary': \"Nursery Database was derived from a hierarchical decision model originally developed to rank applications for nursery schools. It was used during several years in 1980's when there was excessive enrollment to these schools in Ljubljana, Slovenia, and the rejected applications frequently needed an objective explanation. The final decision depended on three subproblems: occupation of parents and child's nursery, family structure and financial standing, and social and health picture of the family. The model was developed within expert system shell for decision making DEX (M. Bohanec, V. Rajkovic: Expert system for decision making. Sistemica 1(1), pp. 145-157, 1990.).\\r\\n\\r\\nThe hierarchical model ranks nursery-school applications according to the following concept structure:\\r\\n\\r\\n NURSERY            Evaluation of applications for nursery schools\\r\\n . EMPLOY           Employment of parents and child's nursery\\r\\n . . parents        Parents' occupation\\r\\n . . has_nurs       Child's nursery\\r\\n . STRUCT_FINAN     Family structure and financial standings\\r\\n . . STRUCTURE      Family structure\\r\\n . . . form         Form of the family\\r\\n . . . children     Number of children\\r\\n . . housing        Housing conditions\\r\\n . . finance        Financial standing of the family\\r\\n . SOC_HEALTH       Social and health picture of the family\\r\\n . . social         Social conditions\\r\\n . . health         Health conditions\\r\\n\\r\\nInput attributes are printed in lowercase. Besides the target concept (NURSERY) the model includes four intermediate concepts: EMPLOY, STRUCT_FINAN, STRUCTURE, SOC_HEALTH. Every concept is in the original model related to its lower level descendants by a set of examples (for these examples sets see http://www-ai.ijs.si/BlazZupan/nursery.html).\\r\\n\\r\\nThe Nursery Database contains examples with the structural information removed, i.e., directly relates NURSERY to the eight input attributes: parents, has_nurs, form, children, housing, finance, social, health.\\r\\n\\r\\nBecause of known underlying concept structure, this database may be particularly useful for testing constructive induction and structure discovery methods.\", 'purpose': None, 'funded_by': None, 'instances_represent': None, 'recommended_data_splits': None, 'sensitive_data': None, 'preprocessing_description': None, 'variable_info': '   parents:        usual, pretentious, great_pret\\r\\n   has_nurs:       proper, less_proper, improper, critical, very_crit\\r\\n   form:           complete, completed, incomplete, foster\\r\\n   children:       1, 2, 3, more\\r\\n   housing:        convenient, less_conv, critical\\r\\n   finance:        convenient, inconv\\r\\n   social:         non-prob, slightly_prob, problematic\\r\\n   health:         recommended, priority, not_recom', 'citation': None}}\n",
      "       name     role         type demographic  \\\n",
      "0   parents  Feature  Categorical        None   \n",
      "1  has_nurs  Feature  Categorical        None   \n",
      "2      form  Feature  Categorical        None   \n",
      "3  children  Feature  Categorical        None   \n",
      "4   housing  Feature  Categorical        None   \n",
      "5   finance  Feature  Categorical        None   \n",
      "6    social  Feature  Categorical        None   \n",
      "7    health  Feature  Categorical        None   \n",
      "8     class   Target  Categorical        None   \n",
      "\n",
      "                                         description units missing_values  \n",
      "0                     usual, pretentious, great_pret  None             no  \n",
      "1  proper, less_proper, improper, critical, very_...  None             no  \n",
      "2            complete, completed, incomplete, foster  None             no  \n",
      "3                                      1, 2, 3, more  None             no  \n",
      "4                    convenient, less_conv, critical  None             no  \n",
      "5                                 convenient, inconv  None             no  \n",
      "6               non-prob, slightly_prob, problematic  None             no  \n",
      "7                   recommended, priority, not_recom  None             no  \n",
      "8                   recommended, priority, not_recom  None             no  \n"
     ]
    }
   ],
   "source": [
    "# fetch dataset \n",
    "nursery = fetch_ucirepo(id=76)   \n",
    "# data (as pandas dataframes) \n",
    "X = nursery.data.features \n",
    "y = nursery.data.targets \n",
    "# metadata \n",
    "print(nursery.metadata) \n",
    "# variable information \n",
    "print(nursery.variables) "
   ]
  }
 ],
 "metadata": {
  "kernelspec": {
   "display_name": ".venv",
   "language": "python",
   "name": "python3"
  },
  "language_info": {
   "codemirror_mode": {
    "name": "ipython",
    "version": 3
   },
   "file_extension": ".py",
   "mimetype": "text/x-python",
   "name": "python",
   "nbconvert_exporter": "python",
   "pygments_lexer": "ipython3",
   "version": "3.13.1"
  }
 },
 "nbformat": 4,
 "nbformat_minor": 2
}
