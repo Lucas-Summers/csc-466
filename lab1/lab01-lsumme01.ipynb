{
 "cells": [
  {
   "cell_type": "markdown",
   "id": "1e48b51c-bab9-4997-9021-345d58958908",
   "metadata": {},
   "source": [
    "# CSC 466 Lab 1\n",
    "\n",
    "By Lucas Summers\n",
    "\n",
    "lsumme01@calpoly.edu"
   ]
  },
  {
   "cell_type": "code",
   "execution_count": null,
   "id": "88c78d9d-edcd-42db-b6c7-ceeb9f3b2d1d",
   "metadata": {},
   "outputs": [],
   "source": [
    "import pandas as pd\n",
    "import numpy as np"
   ]
  },
  {
   "cell_type": "code",
   "execution_count": null,
   "id": "d7302092-0f32-4664-a178-b11bb512f043",
   "metadata": {},
   "outputs": [],
   "source": [
    "from sklearn.datasets import load_iris\n",
    "\n",
    "iris = load_iris(as_frame=True)\n",
    "iris_df = iris.frame\n",
    "print(iris_df.head())"
   ]
  },
  {
   "cell_type": "code",
   "execution_count": null,
   "id": "5ee5295e-9bc8-409c-8f14-c0a2dcd928b1",
   "metadata": {},
   "outputs": [],
   "source": [
    "from sklearn.datasets import fetch_california_housing\n",
    "\n",
    "cali = fetch_california_housing(as_frame=True)\n",
    "cali_df = cali.frame.drop(['Longitude', 'Latitude'], axis=1).iloc[:5000]\n",
    "print(cali_df.head())"
   ]
  },
  {
   "cell_type": "code",
   "execution_count": null,
   "id": "db1efe86-695e-42fb-802a-683a5b9dfd7d",
   "metadata": {},
   "outputs": [],
   "source": [
    "def manhattan_distance(x, y):\n",
    "    diff = np.abs(x - y)\n",
    "    return np.sum(diff, axis=1)"
   ]
  },
  {
   "cell_type": "code",
   "execution_count": null,
   "id": "770ebf1e-a47e-4977-9e18-dd457e4ae33d",
   "metadata": {},
   "outputs": [],
   "source": [
    "def cosine_similarity(x, y):\n",
    "    dot = np.dot(x, y)\n",
    "    xmag = np.linalg.norm(x, axis=1)\n",
    "    ymag = np.linalg.norm(y)\n",
    "    \n",
    "    with np.errstate(divide='ignore', invalid='ignore'):\n",
    "        sim = dot / (xmag * ymag)\n",
    "        sim[~np.isfinite(sim)] = 0\n",
    "    return sim"
   ]
  },
  {
   "cell_type": "code",
   "execution_count": null,
   "id": "89226fff-8ed3-41ec-97b8-2b5d00077e0b",
   "metadata": {},
   "outputs": [],
   "source": [
    "from collections import Counter\n",
    "def run_knn(train, labels, d, k, metric, model):\n",
    "    if metric == 'cosine':\n",
    "        scores = cosine_similarity(train, d)\n",
    "        knearest = np.argsort(scores)[-k:][::-1]\n",
    "    elif metric == 'manhattan':\n",
    "        scores = manhattan_distance(train, d)\n",
    "        knearest = np.argsort(scores)[:k]\n",
    "    else:\n",
    "        raise ValueError(\"Metric must be 'cosine' or 'manhattan'\")\n",
    "\n",
    "    if model == 'classify':\n",
    "        label_counts = Counter()\n",
    "        for i in knearest:\n",
    "            label_counts[labels.iloc[i]] += 1\n",
    "        return label_counts.most_common(1)[0][0]\n",
    "    elif model == 'regression':\n",
    "        label_sum = 0\n",
    "        for i in knearest:\n",
    "            label_sum += labels.iloc[i]\n",
    "        \n",
    "        return label_sum / k\n",
    "    else:\n",
    "        raise ValueError(\"Model must be 'classify' or 'regression'\")"
   ]
  },
  {
   "cell_type": "code",
   "execution_count": null,
   "id": "b5365668-1866-4330-a5f7-d0742faa2699",
   "metadata": {},
   "outputs": [],
   "source": [
    "from sklearn.neighbors import KNeighborsClassifier, KNeighborsRegressor\n",
    "from sklearn.metrics import pairwise_distances\n",
    "def run_knn_sk(train, labels, d, k, metric, model):\n",
    "    if model == 'classify':\n",
    "        knn = KNeighborsClassifier(n_neighbors=k, metric=metric)\n",
    "    elif model == 'regression':\n",
    "        knn = KNeighborsRegressor(n_neighbors=k, metric=metric)\n",
    "    else:\n",
    "        raise ValueError(\"Model must be 'classify' or 'regression'\")\n",
    "\n",
    "    d = d.reshape(1, -1)\n",
    "    knn.fit(train, labels)\n",
    "    pred = knn.predict(d)\n",
    "    return pred[0]"
   ]
  },
  {
   "cell_type": "code",
   "execution_count": null,
   "id": "7c4feb71-9e3a-4cad-9511-d0fb60fb3f8b",
   "metadata": {},
   "outputs": [],
   "source": [
    "def calc_accuracy(test, pred):\n",
    "    return np.sum(test == pred) / len(test)"
   ]
  },
  {
   "cell_type": "code",
   "execution_count": null,
   "id": "7c054e5e-4871-40f8-b108-38ad70980472",
   "metadata": {},
   "outputs": [],
   "source": [
    "def calc_sse(test, pred):\n",
    "    return np.sum((test - pred) ** 2)    "
   ]
  },
  {
   "cell_type": "code",
   "execution_count": null,
   "id": "aa5e33ab-d3dd-4851-bf6d-31117c6e4aec",
   "metadata": {},
   "outputs": [],
   "source": [
    "def calc_mse(test, pred):\n",
    "    return calc_sse(test, pred) / len(test)"
   ]
  },
  {
   "cell_type": "code",
   "execution_count": null,
   "id": "a6638f0b-9d5d-447a-a31c-5922c23a2bcf",
   "metadata": {},
   "outputs": [],
   "source": [
    "def calc_mae(test, pred):\n",
    "    return np.mean(np.abs(test - pred))"
   ]
  },
  {
   "cell_type": "code",
   "execution_count": null,
   "id": "a7a1cd8c-184b-4ea9-88d1-99ff85fbc590",
   "metadata": {},
   "outputs": [],
   "source": [
    "def evaluate_knn(train_data, train_labels, test_data, test_labels, k, knn, metric='cosine', model='classify'):\n",
    "    pred = np.empty(len(test_data), dtype=object)\n",
    "    for i, d in enumerate(test_data):\n",
    "       pred[i] = knn(train_data, train_labels, d, k, metric, model)\n",
    "\n",
    "    if model == 'classify':\n",
    "        accuracy = calc_accuracy(test_labels, pred)\n",
    "        #avg_f1 = calc_average_f1(test_labels, pred)\n",
    "        #print(f\"Accuracy: {accuracy: .2%}\")\n",
    "        #print(f\"Average F1-measure: {avg_f1: .2%}\")\n",
    "        return {'accuracy': accuracy}\n",
    "    elif model == 'regression':\n",
    "        sse = calc_sse(test_labels, pred)\n",
    "        mse = calc_mse(test_labels, pred)\n",
    "        mae = calc_mae(test_labels, pred)\n",
    "        #print(f\"Sum Squared Error (SSE): {sse: .4}\")\n",
    "        #print(f\"Mean Squared Error (MSE): {mse: .4}\")\n",
    "        #print(f\"Mean Absolute Error (MAE): {mae: .4}\")\n",
    "        return {'sse': sse, 'mse': mse, 'mae': mae}\n",
    "    else:\n",
    "        raise ValueError(\"Model must be 'classify' or 'regression'\")"
   ]
  },
  {
   "cell_type": "code",
   "execution_count": null,
   "id": "d2c87168-f06c-4a74-b12f-1207c2af534a",
   "metadata": {},
   "outputs": [],
   "source": [
    "def grid_search(train_data, train_labels, test_data, test_labels, knn, model='classify', max_k=10):\n",
    "    results = []\n",
    "    for k in range(1, max_k+1):\n",
    "        #print(f\"KNN {model} using Cosine Similarity (k = {k})\")\n",
    "        cosine_result = evaluate_knn(train_data, train_labels, test_data, test_labels, k, knn, metric='cosine', model=model)\n",
    "        results.append({'k': k, 'metric': 'cosine', **cosine_result})\n",
    "        #print(f\"KNN {model} using Manhattan Distance (k = {k})\")\n",
    "        man_result = evaluate_knn(train_data, train_labels, test_data, test_labels, k, knn, metric='manhattan', model=model)\n",
    "        results.append({'k': k, 'metric': 'manhattan', **man_result})\n",
    "\n",
    "    if model == 'classify':\n",
    "        best_k = min(\n",
    "            results, \n",
    "            key=lambda x: (-x['accuracy'], x['k'])  # Sort by accuracy (descending) and k (ascending)\n",
    "        )\n",
    "    elif model == 'regression':\n",
    "        best_k = min(\n",
    "            results, \n",
    "            key=lambda x: (x['sse'], x['k'])  # Sort by SSE (ascending) and k (ascending)\n",
    "        )\n",
    "    print(f\"Best KNN {model} model:\")\n",
    "    for name, val in best_k.items():\n",
    "        print(f\"{name}: {val}\")\n",
    "    \n",
    "    return results"
   ]
  },
  {
   "cell_type": "code",
   "execution_count": null,
   "id": "fe41b124-5fde-464c-bac5-6f0f1065803c",
   "metadata": {},
   "outputs": [],
   "source": [
    "def split_train_test(df, target, test_size=0.2, random_state=0):\n",
    "    np.random.seed(random_state)\n",
    "    \n",
    "    indices = np.arange(len(df))\n",
    "    np.random.shuffle(indices)\n",
    "    split_idx = int(len(df) * (1 - test_size))\n",
    "\n",
    "    train_indices = indices[:split_idx]\n",
    "    test_indices = indices[split_idx:]\n",
    "    \n",
    "    train_df = df.iloc[train_indices]\n",
    "    test_df = df.iloc[test_indices]\n",
    "    \n",
    "    train_data = train_df.drop(columns=target).reset_index(drop=True)\n",
    "    train_labels = train_df[target].reset_index(drop=True)\n",
    "    test_data = test_df.drop(columns=target).reset_index(drop=True)\n",
    "    test_labels = test_df[target].reset_index(drop=True)\n",
    "\n",
    "    test_data = test_data.to_numpy(dtype=float)\n",
    "    train_data = train_data.to_numpy(dtype=float)\n",
    "    \n",
    "    return train_data, test_data, train_labels, test_labels"
   ]
  },
  {
   "cell_type": "code",
   "execution_count": null,
   "id": "93ba9861-217a-43da-b641-c497e20f8688",
   "metadata": {},
   "outputs": [],
   "source": [
    "import matplotlib.pyplot as plt\n",
    "\n",
    "def plot_results(results, title, model='classify'):\n",
    "    cosine_results = [r for r in results if r['metric'] == 'cosine']\n",
    "    manhattan_results = [r for r in results if r['metric'] == 'manhattan']\n",
    "    k_values = [r['k'] for r in cosine_results]\n",
    "\n",
    "    if model == 'classify':\n",
    "        cosine_acc = [r['accuracy'] for r in cosine_results]\n",
    "        manhattan_acc = [r['accuracy'] for r in manhattan_results]\n",
    "        plt.plot(k_values, cosine_acc, label='Cosine', marker='o')\n",
    "        plt.plot(k_values, manhattan_acc, label='Manhattan', marker='s')\n",
    "        plt.ylabel('Accuracy')\n",
    "    elif model == 'regression':\n",
    "        cosine_sse = [r['sse'] for r in cosine_results]\n",
    "        manhattan_sse = [r['sse'] for r in manhattan_results]\n",
    "        plt.plot(k_values, cosine_sse, label='Cosine', marker='o')\n",
    "        plt.plot(k_values, manhattan_sse, label='Manhattan', marker='s')\n",
    "        plt.ylabel('Sum Squared Error (SSE)')\n",
    "\n",
    "    plt.xlabel('k')\n",
    "    plt.title(title)\n",
    "    plt.legend()\n",
    "    plt.grid()\n",
    "    plt.show()"
   ]
  },
  {
   "cell_type": "markdown",
   "id": "8099eda1-bc5e-42a5-9811-6336dfdbcf44",
   "metadata": {},
   "source": [
    "# Custom KNN Classification"
   ]
  },
  {
   "cell_type": "code",
   "execution_count": null,
   "id": "1ce6ab97-43dc-4540-98ad-3f4b6708038b",
   "metadata": {},
   "outputs": [],
   "source": [
    "train_data, test_data, train_labels, test_labels = split_train_test(\n",
    "    iris_df, 'target', test_size=0.2, random_state=0\n",
    ")\n",
    "results = grid_search(train_data, train_labels, test_data, test_labels, run_knn, model='classify', max_k=10)\n",
    "plot_results(results, title='Custom KNN Classify Performance', model='classify')"
   ]
  },
  {
   "cell_type": "markdown",
   "id": "91eb8731-9d05-4c4e-81aa-dde391f4ec61",
   "metadata": {},
   "source": [
    "# SKLEARN KNN Classification"
   ]
  },
  {
   "cell_type": "code",
   "execution_count": null,
   "id": "0cc52374-3379-40b1-8a41-1aad44afe7f2",
   "metadata": {},
   "outputs": [],
   "source": [
    "train_data, test_data, train_labels, test_labels = split_train_test(\n",
    "    iris_df, 'target', test_size=0.2, random_state=0\n",
    ")\n",
    "results = grid_search(train_data, train_labels, test_data, test_labels, run_knn_sk, model='classify', max_k=10)\n",
    "plot_results(results, title='SK Learn KNN Classify Performance', model='classify')"
   ]
  },
  {
   "cell_type": "markdown",
   "id": "de1eb0b1-0380-45b8-adb5-ce2c2393924e",
   "metadata": {},
   "source": [
    "# Custom KNN Regression"
   ]
  },
  {
   "cell_type": "code",
   "execution_count": null,
   "id": "9ab5ee45-4404-4d65-a994-b02d191b9d01",
   "metadata": {},
   "outputs": [],
   "source": [
    "train_data, test_data, train_labels, test_labels = split_train_test(\n",
    "    cali_df, 'MedHouseVal', test_size=0.2, random_state=0\n",
    ")\n",
    "results = grid_search(train_data, train_labels, test_data, test_labels, run_knn, model='regression', max_k=10)\n",
    "plot_results(results, title='Custom KNN Regression Performance', model='regression')"
   ]
  },
  {
   "cell_type": "markdown",
   "id": "9112ed27-29c5-43db-a774-c233b2292f27",
   "metadata": {},
   "source": [
    "# SKLEARN KNN Regression "
   ]
  },
  {
   "cell_type": "code",
   "execution_count": null,
   "id": "c1495660-b166-469a-8750-c311dbe7f35b",
   "metadata": {},
   "outputs": [],
   "source": [
    "train_data, test_data, train_labels, test_labels = split_train_test(\n",
    "    cali_df, 'MedHouseVal', test_size=0.2, random_state=0\n",
    ")\n",
    "results = grid_search(train_data, train_labels, test_data, test_labels, run_knn_sk, model='regression', max_k=10)\n",
    "plot_results(results, title='SK Learn Regression Performance', model='regression')"
   ]
  }
 ],
 "metadata": {
  "kernelspec": {
   "display_name": "Python 3 (ipykernel)",
   "language": "python",
   "name": "python3"
  },
  "language_info": {
   "codemirror_mode": {
    "name": "ipython",
    "version": 3
   },
   "file_extension": ".py",
   "mimetype": "text/x-python",
   "name": "python",
   "nbconvert_exporter": "python",
   "pygments_lexer": "ipython3",
   "version": "3.13.1"
  }
 },
 "nbformat": 4,
 "nbformat_minor": 5
}
