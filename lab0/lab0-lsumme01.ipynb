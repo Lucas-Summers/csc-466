{
 "cells": [
  {
   "cell_type": "markdown",
   "id": "28ec84f2-3aa1-475c-a753-7a896a6752ed",
   "metadata": {},
   "source": [
    "# CSC 466 Lab 0\n",
    "By Lucas Summers\n",
    "\n",
    "lsumme01@calpoly.edu"
   ]
  },
  {
   "cell_type": "code",
   "execution_count": null,
   "id": "b0185eec-d31f-450e-9918-90fb5c954511",
   "metadata": {},
   "outputs": [],
   "source": [
    "import pandas as pd\n",
    "import numpy as np\n",
    "import math\n",
    "import time"
   ]
  },
  {
   "cell_type": "code",
   "execution_count": null,
   "id": "979123ee-12bc-45c0-b7b4-7529950cd2f6",
   "metadata": {},
   "outputs": [],
   "source": [
    "from sklearn.datasets import load_iris\n",
    "\n",
    "iris = load_iris()\n",
    "iris_df = pd.DataFrame(data=iris.data, columns=iris.feature_names)\n",
    "print(iris_df.head())"
   ]
  },
  {
   "cell_type": "code",
   "execution_count": null,
   "id": "0fee282c-a6fe-4d80-bc91-3e38078b51e8",
   "metadata": {},
   "outputs": [],
   "source": [
    "from sklearn.datasets import fetch_california_housing\n",
    "\n",
    "cali = fetch_california_housing(as_frame=True)\n",
    "cali_df = cali.frame.drop(['Longitude', 'Latitude'], axis=1)\n",
    "print(cali_df.head())"
   ]
  },
  {
   "cell_type": "code",
   "execution_count": null,
   "id": "02245cff-941d-40f9-826d-8dc5ac3c3635",
   "metadata": {},
   "outputs": [],
   "source": [
    "def run_metric(df, metric_handler, metric_type, extremes, metric_func=None):\n",
    "    start_t = time.time()\n",
    "    \n",
    "    if metric_func:  \n",
    "        pairs = metric_handler(df, metric_func)\n",
    "    else:\n",
    "        pairs = metric_handler(df)\n",
    "        \n",
    "    most_similar, most_dissimilar = extremes(pairs, metric_type)\n",
    "    \n",
    "    end_t = time.time()\n",
    "    \n",
    "    print(\"Most Similar Pair (Index, Index, Distance):\", most_similar)\n",
    "    print(\"Most Dissimilar Pair (Index, Index, Distance):\", most_dissimilar)\n",
    "    print(f\"Execution Time: {end_t - start_t:.4f} seconds\\n\")"
   ]
  },
  {
   "cell_type": "markdown",
   "id": "900d7fb9-6eac-4032-a0bc-733ed456f067",
   "metadata": {},
   "source": [
    "# Version 1"
   ]
  },
  {
   "cell_type": "code",
   "execution_count": null,
   "id": "bce669c8-af4e-401b-a758-0616c6a6303a",
   "metadata": {},
   "outputs": [],
   "source": [
    "def compute_pairwise(df, metric):\n",
    "    n = len(df)\n",
    "    results = []\n",
    "    for i in range(n):\n",
    "        for j in range(i+1, n):\n",
    "            val = metric(df.iloc[i], df.iloc[j])\n",
    "            results.append((i, j, val))\n",
    "    return results"
   ]
  },
  {
   "cell_type": "code",
   "execution_count": null,
   "id": "26c40506-205a-4274-ad2b-e577ddeed9e0",
   "metadata": {},
   "outputs": [],
   "source": [
    "def manhattan_distance(x, y):\n",
    "    return sum(abs(a - b) for a, b in zip(x,y))"
   ]
  },
  {
   "cell_type": "code",
   "execution_count": null,
   "id": "ee61c0e0-4986-4268-a0d2-28c567136f5f",
   "metadata": {},
   "outputs": [],
   "source": [
    "def cosine_similarity(x, y):\n",
    "    dot = sum(a*b for a, b in zip(x,y))\n",
    "    mag_x = math.sqrt(sum(a**2 for a in x))\n",
    "    mag_y = math.sqrt(sum(b**2 for b in y))\n",
    "    \n",
    "    if mag_x == 0 or mag_y == 0:\n",
    "        return 0\n",
    "    return dot / (mag_x * mag_y)"
   ]
  },
  {
   "cell_type": "code",
   "execution_count": null,
   "id": "ee10899e-c982-4dc4-b5bc-c3d7e729a4f2",
   "metadata": {},
   "outputs": [],
   "source": [
    "def find_minmax(pairs, metric_type):\n",
    "    if metric_type == \"distance\":\n",
    "        most_similar = min(pairs, key=lambda x: x[2])\n",
    "        most_dissimilar = max(pairs, key=lambda x: x[2])\n",
    "    elif metric_type == \"similarity\":\n",
    "        most_similar = max(pairs, key=lambda x: x[2])\n",
    "        most_dissimilar = min(pairs, key=lambda x: x[2])\n",
    "    return most_similar, most_dissimilar"
   ]
  },
  {
   "cell_type": "code",
   "execution_count": null,
   "id": "f4fde090-234b-4c9f-8b5f-9c2e28aa51c6",
   "metadata": {},
   "outputs": [],
   "source": [
    "run_metric(iris_df, compute_pairwise, \"distance\", find_minmax, manhattan_distance)\n",
    "run_metric(iris_df, compute_pairwise, \"similarity\", find_minmax, cosine_similarity)\n",
    "run_metric(cali_df, compute_pairwise, \"distance\", find_minmax, manhattan_distance)\n",
    "run_metric(cali_df, compute_pairwise, \"similarity\", find_minmax, cosine_similarity)"
   ]
  },
  {
   "cell_type": "markdown",
   "id": "bbfaaa60-56d1-4440-9b55-dcb1bc290185",
   "metadata": {},
   "source": [
    "# Version 2"
   ]
  },
  {
   "cell_type": "code",
   "execution_count": null,
   "id": "be66f5b5-9a6c-4c52-97b4-bccc42b133be",
   "metadata": {},
   "outputs": [],
   "source": [
    "def find_minmax_np(matrix, metric_type):\n",
    "    matrix = matrix.copy()\n",
    "    np.fill_diagonal(matrix, np.nan)\n",
    "    if metric_type == \"distance\":\n",
    "        min_idx = np.unravel_index(np.nanargmin(matrix), matrix.shape)\n",
    "        max_idx = np.unravel_index(np.nanargmax(matrix), matrix.shape)\n",
    "        return (*min_idx, matrix[min_idx]), (*max_idx, matrix[max_idx])\n",
    "    elif metric_type == \"similarity\":\n",
    "        max_idx = np.unravel_index(np.nanargmax(matrix), matrix.shape)\n",
    "        min_idx = np.unravel_index(np.nanargmin(matrix), matrix.shape)\n",
    "        return (*max_idx, matrix[max_idx]), (*min_idx, matrix[min_idx])"
   ]
  },
  {
   "cell_type": "code",
   "execution_count": null,
   "id": "17f5f0c8-902a-4226-9b9f-ab7d6cbacbcb",
   "metadata": {},
   "outputs": [],
   "source": [
    "def manhattan_distance_np(df):\n",
    "    df = df.to_numpy()\n",
    "    diff = np.abs(df[:, np.newaxis, :] - df[np.newaxis, :, :])\n",
    "    return np.sum(diff, axis=2)"
   ]
  },
  {
   "cell_type": "code",
   "execution_count": null,
   "id": "1b286e2a-8021-4e89-b345-56a5f00f4e34",
   "metadata": {},
   "outputs": [],
   "source": [
    "def cosine_similarity_np(df):\n",
    "    df = df.to_numpy()\n",
    "    dot = np.dot(df, df.T)\n",
    "    mags = np.linalg.norm(df, axis=1)\n",
    "    mags = np.outer(mags, mags)\n",
    "    with np.errstate(divide='ignore', invalid='ignore'):\n",
    "        sim = np.divide(dot, mags)\n",
    "        sim[~np.isfinite(sim)] = 0\n",
    "    return sim"
   ]
  },
  {
   "cell_type": "code",
   "execution_count": null,
   "id": "5e423bdc-c91f-4da8-9c13-23d98c5bd87a",
   "metadata": {},
   "outputs": [],
   "source": [
    "run_metric(iris_df, manhattan_distance_np, \"distance\", find_minmax_np)\n",
    "run_metric(iris_df, cosine_similarity_np, \"similarity\", find_minmax_np)\n",
    "run_metric(cali_df, manhattan_distance_np, \"distance\", find_minmax_np)\n",
    "run_metric(cali_df, cosine_similarity_np, \"similarity\", find_minmax_np)"
   ]
  },
  {
   "cell_type": "markdown",
   "id": "5a1e313d-adbd-4f6d-9505-7a940a767bd0",
   "metadata": {},
   "source": [
    "# Version 3"
   ]
  },
  {
   "cell_type": "code",
   "execution_count": null,
   "id": "bab5870c-87d7-4930-9bc5-edea6b5f46d7",
   "metadata": {},
   "outputs": [],
   "source": [
    "from sklearn.metrics.pairwise import pairwise_distances, cosine_similarity"
   ]
  },
  {
   "cell_type": "code",
   "execution_count": null,
   "id": "8cb3a66a-c454-4b87-88e8-3a20d743d730",
   "metadata": {},
   "outputs": [],
   "source": [
    "def manhattan_distance_sk(df):\n",
    "    return pairwise_distances(df, metric='manhattan')"
   ]
  },
  {
   "cell_type": "code",
   "execution_count": null,
   "id": "df934649-ca51-4d0c-9efc-d91b48fb3c48",
   "metadata": {},
   "outputs": [],
   "source": [
    "def cosine_similarity_sk(df):\n",
    "    return cosine_similarity(df)"
   ]
  },
  {
   "cell_type": "code",
   "execution_count": null,
   "id": "a042e43b-a9de-4e0c-adf8-953cb0b75a23",
   "metadata": {},
   "outputs": [],
   "source": [
    "run_metric(iris_df, manhattan_distance_sk, \"distance\", find_minmax_np)\n",
    "run_metric(iris_df, cosine_similarity_sk, \"similarity\", find_minmax_np)\n",
    "run_metric(cali_df, manhattan_distance_sk, \"distance\", find_minmax_np)\n",
    "run_metric(cali_df, cosine_similarity_sk, \"similarity\", find_minmax_np)"
   ]
  }
 ],
 "metadata": {
  "kernelspec": {
   "display_name": "Python 3 (ipykernel)",
   "language": "python",
   "name": "python3"
  },
  "language_info": {
   "codemirror_mode": {
    "name": "ipython",
    "version": 3
   },
   "file_extension": ".py",
   "mimetype": "text/x-python",
   "name": "python",
   "nbconvert_exporter": "python",
   "pygments_lexer": "ipython3",
   "version": "3.13.1"
  }
 },
 "nbformat": 4,
 "nbformat_minor": 5
}
